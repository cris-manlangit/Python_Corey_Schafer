{
 "cells": [
  {
   "cell_type": "markdown",
   "metadata": {},
   "source": [
    "## redo this [Python Tutorial for Beginners 3: Integers and Floats - Working with Numeric Data](https://www.youtube.com/watch?v=khKv-8q7YmY&list=PL-osiE80TeTt2d9bfVyTiXJA-UTHn6WwU&index=3)\n",
    "\n"
   ]
  },
  {
   "cell_type": "code",
   "execution_count": 13,
   "metadata": {},
   "outputs": [
    {
     "name": "stdout",
     "output_type": "stream",
     "text": [
      "1\n"
     ]
    }
   ],
   "source": [
    "# Arithmetic Operators:\n",
    "# Addition: 3 + 2\n",
    "# Subtraction: 3 - 2\n",
    "# Multiplication: 3 * 2\n",
    "# Division: 3 / 2\n",
    "# Floor Division: 3 // 2\n",
    "# Exponent: 3 ** 2\n",
    "# Modulus: 3 % 2\n",
    "\n",
    "print(3 % 2)"
   ]
  },
  {
   "cell_type": "markdown",
   "metadata": {},
   "source": [
    "### Increment\n",
    "\n",
    "`num = num + 1` or `num += 1`\n",
    "\n",
    "### Absolute value\n",
    "\n",
    "`abs(-3)`\n",
    "\n",
    "### Round\n",
    "\n",
    "`round(3.75 [, 1])`"
   ]
  },
  {
   "cell_type": "code",
   "execution_count": 14,
   "metadata": {},
   "outputs": [],
   "source": [
    "# Comparisions\n",
    "# Equal: 3 == 2\n",
    "# Not Equal: 3 != 2\n",
    "# Greater Than: 3 > 2\n",
    "# Less Than: 3 < 2\n",
    "# Greater or Equal: 3 >= 2\n",
    "# Less or Equal: 3 <= 2"
   ]
  },
  {
   "cell_type": "markdown",
   "metadata": {},
   "source": [
    "### Casting\n",
    "\n",
    "to an integer\n",
    "`int()`"
   ]
  },
  {
   "cell_type": "markdown",
   "metadata": {},
   "source": [
    "## [Python Tutorial for Beginners 4: Lists, Tuples, and Sets](https://www.youtube.com/watch?v=W8KRzm-HUcc&list=PL-osiE80TeTt2d9bfVyTiXJA-UTHn6WwU&index=4)\n",
    "\n",
    "### Lists"
   ]
  },
  {
   "cell_type": "code",
   "execution_count": null,
   "metadata": {},
   "outputs": [],
   "source": [
    "courses = ['History', 'Math', 'Physics', 'CompSci']\n",
    "\n",
    "# print entire list\n",
    "print(courses)\n",
    "# get length of list\n",
    "print(len(courses))\n",
    "# first item of list\n",
    "print(courses[0])\n",
    "# last item hardcoded\n",
    "print(courses[3])\n",
    "# last item\n",
    "print(courses[-1])\n",
    "# out of range error\n",
    "print(courses[4])\n",
    "\n",
    "# slicing\n",
    "\n",
    "# select first two elements\n",
    "print(courses[0:2])\n",
    "# or\n",
    "print(courses[:2])\n",
    "print(courses[2:])\n"
   ]
  },
  {
   "cell_type": "markdown",
   "metadata": {},
   "source": [
    "First Item of List\n",
    "\n",
    "`courses[0]`"
   ]
  },
  {
   "cell_type": "markdown",
   "metadata": {},
   "source": [
    "Last Item of List\n",
    "\n",
    "`courses[-1]`"
   ]
  },
  {
   "cell_type": "markdown",
   "metadata": {},
   "source": []
  }
 ],
 "metadata": {
  "kernelspec": {
   "display_name": "Python 3",
   "language": "python",
   "name": "python3"
  },
  "language_info": {
   "codemirror_mode": {
    "name": "ipython",
    "version": 3
   },
   "file_extension": ".py",
   "mimetype": "text/x-python",
   "name": "python",
   "nbconvert_exporter": "python",
   "pygments_lexer": "ipython3",
   "version": "3.7.4"
  }
 },
 "nbformat": 4,
 "nbformat_minor": 2
}
