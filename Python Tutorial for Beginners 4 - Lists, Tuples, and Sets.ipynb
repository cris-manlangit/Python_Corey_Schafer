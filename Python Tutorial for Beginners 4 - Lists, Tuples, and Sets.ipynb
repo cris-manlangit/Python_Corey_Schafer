{
 "cells": [
  {
   "cell_type": "markdown",
   "metadata": {},
   "source": [
    "## [Python Tutorial for Beginners 4: Lists, Tuples, and Sets](https://www.youtube.com/watch?v=W8KRzm-HUcc&list=PL-osiE80TeTt2d9bfVyTiXJA-UTHn6WwU&index=4)\n",
    "\n",
    "### Lists"
   ]
  },
  {
   "cell_type": "code",
   "execution_count": 3,
   "metadata": {},
   "outputs": [
    {
     "name": "stdout",
     "output_type": "stream",
     "text": [
      "['History', 'Math', 'Physics', 'CompSci']\n"
     ]
    }
   ],
   "source": [
    "courses = ['History', 'Math', 'Physics', 'CompSci']\n",
    "\n",
    "# print entire list\n",
    "print(courses)"
   ]
  },
  {
   "cell_type": "code",
   "execution_count": 4,
   "metadata": {},
   "outputs": [
    {
     "name": "stdout",
     "output_type": "stream",
     "text": [
      "4\n"
     ]
    }
   ],
   "source": [
    "# get length of list\n",
    "print(len(courses))"
   ]
  },
  {
   "cell_type": "code",
   "execution_count": 5,
   "metadata": {},
   "outputs": [
    {
     "name": "stdout",
     "output_type": "stream",
     "text": [
      "History\n"
     ]
    }
   ],
   "source": [
    "# first item of list\n",
    "print(courses[0])"
   ]
  },
  {
   "cell_type": "code",
   "execution_count": 6,
   "metadata": {},
   "outputs": [
    {
     "name": "stdout",
     "output_type": "stream",
     "text": [
      "CompSci\n"
     ]
    }
   ],
   "source": [
    "# last item hardcoded\n",
    "print(courses[3])"
   ]
  },
  {
   "cell_type": "code",
   "execution_count": 7,
   "metadata": {},
   "outputs": [
    {
     "name": "stdout",
     "output_type": "stream",
     "text": [
      "CompSci\n"
     ]
    }
   ],
   "source": [
    "# last item\n",
    "print(courses[-1])"
   ]
  },
  {
   "cell_type": "code",
   "execution_count": 8,
   "metadata": {},
   "outputs": [
    {
     "ename": "IndexError",
     "evalue": "list index out of range",
     "output_type": "error",
     "traceback": [
      "\u001b[0;31m---------------------------------------------------------------------------\u001b[0m",
      "\u001b[0;31mIndexError\u001b[0m                                Traceback (most recent call last)",
      "\u001b[0;32m<ipython-input-8-c5dcd596a6d2>\u001b[0m in \u001b[0;36m<module>\u001b[0;34m\u001b[0m\n\u001b[1;32m      1\u001b[0m \u001b[0;31m# out of range error\u001b[0m\u001b[0;34m\u001b[0m\u001b[0;34m\u001b[0m\u001b[0;34m\u001b[0m\u001b[0m\n\u001b[0;32m----> 2\u001b[0;31m \u001b[0mprint\u001b[0m\u001b[0;34m(\u001b[0m\u001b[0mcourses\u001b[0m\u001b[0;34m[\u001b[0m\u001b[0;36m4\u001b[0m\u001b[0;34m]\u001b[0m\u001b[0;34m)\u001b[0m\u001b[0;34m\u001b[0m\u001b[0;34m\u001b[0m\u001b[0m\n\u001b[0m",
      "\u001b[0;31mIndexError\u001b[0m: list index out of range"
     ]
    }
   ],
   "source": [
    "# out of range error\n",
    "print(courses[4])"
   ]
  },
  {
   "cell_type": "code",
   "execution_count": 9,
   "metadata": {},
   "outputs": [
    {
     "name": "stdout",
     "output_type": "stream",
     "text": [
      "['History', 'Math']\n",
      "['History', 'Math']\n"
     ]
    }
   ],
   "source": [
    "# slicing\n",
    "\n",
    "# select first two elements\n",
    "print(courses[0:2])\n",
    "# or\n",
    "print(courses[:2])"
   ]
  },
  {
   "cell_type": "code",
   "execution_count": 10,
   "metadata": {},
   "outputs": [
    {
     "name": "stdout",
     "output_type": "stream",
     "text": [
      "['Physics', 'CompSci']\n"
     ]
    }
   ],
   "source": [
    "print(courses[2:])"
   ]
  },
  {
   "cell_type": "code",
   "execution_count": 11,
   "metadata": {},
   "outputs": [
    {
     "name": "stdout",
     "output_type": "stream",
     "text": [
      "['History', 'Math', 'Physics', 'CompSci', 'Art']\n"
     ]
    }
   ],
   "source": [
    "courses = ['History', 'Math', 'Physics', 'CompSci']\n",
    "courses.append('Art')\n",
    "print(courses)"
   ]
  },
  {
   "cell_type": "code",
   "execution_count": 12,
   "metadata": {},
   "outputs": [
    {
     "name": "stdout",
     "output_type": "stream",
     "text": [
      "['Art', 'History', 'Math', 'Physics', 'CompSci']\n"
     ]
    }
   ],
   "source": [
    "courses = ['History', 'Math', 'Physics', 'CompSci']\n",
    "courses.insert(0, 'Art')\n",
    "print(courses)"
   ]
  },
  {
   "cell_type": "code",
   "execution_count": 13,
   "metadata": {},
   "outputs": [
    {
     "name": "stdout",
     "output_type": "stream",
     "text": [
      "[['Art', 'Education'], 'History', 'Math', 'Physics', 'CompSci']\n"
     ]
    }
   ],
   "source": [
    "courses = ['History', 'Math', 'Physics', 'CompSci']\n",
    "courses_2 = ['Art', 'Education']\n",
    "courses.insert(0, courses_2)\n",
    "print(courses)"
   ]
  },
  {
   "cell_type": "code",
   "execution_count": 14,
   "metadata": {},
   "outputs": [
    {
     "name": "stdout",
     "output_type": "stream",
     "text": [
      "['History', 'Math', 'Physics', 'CompSci', 'Art', 'Education']\n"
     ]
    }
   ],
   "source": [
    "courses = ['History', 'Math', 'Physics', 'CompSci']\n",
    "courses_2 = ['Art', 'Education']\n",
    "courses.extend(courses_2)\n",
    "print(courses)"
   ]
  },
  {
   "cell_type": "code",
   "execution_count": 15,
   "metadata": {},
   "outputs": [
    {
     "name": "stdout",
     "output_type": "stream",
     "text": [
      "['History', 'Math', 'Physics', 'CompSci', ['Art', 'Education']]\n"
     ]
    }
   ],
   "source": [
    "courses = ['History', 'Math', 'Physics', 'CompSci']\n",
    "courses_2 = ['Art', 'Education']\n",
    "courses.append(courses_2)\n",
    "print(courses)"
   ]
  },
  {
   "cell_type": "code",
   "execution_count": 16,
   "metadata": {},
   "outputs": [
    {
     "name": "stdout",
     "output_type": "stream",
     "text": [
      "['History', 'Physics', 'CompSci']\n"
     ]
    }
   ],
   "source": [
    "courses = ['History', 'Math', 'Physics', 'CompSci']\n",
    "courses.remove('Math')\n",
    "print(courses)"
   ]
  },
  {
   "cell_type": "code",
   "execution_count": 17,
   "metadata": {},
   "outputs": [
    {
     "name": "stdout",
     "output_type": "stream",
     "text": [
      "['History', 'Math', 'Physics']\n"
     ]
    }
   ],
   "source": [
    "courses = ['History', 'Math', 'Physics', 'CompSci']\n",
    "courses.pop()\n",
    "print(courses)"
   ]
  },
  {
   "cell_type": "code",
   "execution_count": 18,
   "metadata": {},
   "outputs": [
    {
     "name": "stdout",
     "output_type": "stream",
     "text": [
      "CompSci\n",
      "['History', 'Math', 'Physics']\n"
     ]
    }
   ],
   "source": [
    "courses = ['History', 'Math', 'Physics', 'CompSci']\n",
    "popped = courses.pop()\n",
    "print(popped)\n",
    "print(courses)"
   ]
  },
  {
   "cell_type": "code",
   "execution_count": 19,
   "metadata": {},
   "outputs": [
    {
     "name": "stdout",
     "output_type": "stream",
     "text": [
      "['CompSci', 'Physics', 'Math', 'History']\n"
     ]
    }
   ],
   "source": [
    "courses = ['History', 'Math', 'Physics', 'CompSci']\n",
    "courses.reverse()\n",
    "print(courses)"
   ]
  },
  {
   "cell_type": "code",
   "execution_count": 20,
   "metadata": {},
   "outputs": [
    {
     "name": "stdout",
     "output_type": "stream",
     "text": [
      "['CompSci', 'History', 'Math', 'Physics']\n"
     ]
    }
   ],
   "source": [
    "courses = ['History', 'Math', 'Physics', 'CompSci']\n",
    "courses.sort()\n",
    "print(courses)"
   ]
  },
  {
   "cell_type": "code",
   "execution_count": 21,
   "metadata": {},
   "outputs": [
    {
     "name": "stdout",
     "output_type": "stream",
     "text": [
      "['CompSci', 'History', 'Math', 'Physics']\n",
      "[1, 2, 3, 4, 5]\n"
     ]
    }
   ],
   "source": [
    "courses = ['History', 'Math', 'Physics', 'CompSci']\n",
    "nums = [1, 5, 2, 4, 3]\n",
    "courses.sort()\n",
    "nums.sort()\n",
    "print(courses)\n",
    "print(nums)"
   ]
  },
  {
   "cell_type": "code",
   "execution_count": 22,
   "metadata": {},
   "outputs": [
    {
     "name": "stdout",
     "output_type": "stream",
     "text": [
      "['Physics', 'Math', 'History', 'CompSci']\n",
      "[5, 4, 3, 2, 1]\n"
     ]
    }
   ],
   "source": [
    "courses = ['History', 'Math', 'Physics', 'CompSci']\n",
    "nums = [1, 5, 2, 4, 3]\n",
    "courses.sort(reverse=True)\n",
    "nums.sort(reverse=True)\n",
    "print(courses)\n",
    "print(nums)"
   ]
  },
  {
   "cell_type": "code",
   "execution_count": 23,
   "metadata": {},
   "outputs": [
    {
     "name": "stdout",
     "output_type": "stream",
     "text": [
      "['CompSci', 'History', 'Math', 'Physics']\n"
     ]
    }
   ],
   "source": [
    "courses = ['History', 'Math', 'Physics', 'CompSci']\n",
    "# doesn't alter courses list (original)\n",
    "sorted_courses = sorted(courses)\n",
    "print(sorted_courses)"
   ]
  },
  {
   "cell_type": "code",
   "execution_count": 24,
   "metadata": {},
   "outputs": [
    {
     "name": "stdout",
     "output_type": "stream",
     "text": [
      "1\n",
      "5\n",
      "15\n"
     ]
    }
   ],
   "source": [
    "nums = [1, 5, 2, 4, 3]\n",
    "print(min(nums))\n",
    "print(max(nums))\n",
    "print(sum(nums))"
   ]
  },
  {
   "cell_type": "code",
   "execution_count": 25,
   "metadata": {},
   "outputs": [
    {
     "name": "stdout",
     "output_type": "stream",
     "text": [
      "3\n"
     ]
    }
   ],
   "source": [
    "courses = ['History', 'Math', 'Physics', 'CompSci']\n",
    "print(courses.index('CompSci'))"
   ]
  },
  {
   "cell_type": "code",
   "execution_count": 26,
   "metadata": {},
   "outputs": [
    {
     "ename": "ValueError",
     "evalue": "'Art' is not in list",
     "output_type": "error",
     "traceback": [
      "\u001b[0;31m---------------------------------------------------------------------------\u001b[0m",
      "\u001b[0;31mValueError\u001b[0m                                Traceback (most recent call last)",
      "\u001b[0;32m<ipython-input-26-da33a32110e0>\u001b[0m in \u001b[0;36m<module>\u001b[0;34m\u001b[0m\n\u001b[0;32m----> 1\u001b[0;31m \u001b[0mprint\u001b[0m\u001b[0;34m(\u001b[0m\u001b[0mcourses\u001b[0m\u001b[0;34m.\u001b[0m\u001b[0mindex\u001b[0m\u001b[0;34m(\u001b[0m\u001b[0;34m'Art'\u001b[0m\u001b[0;34m)\u001b[0m\u001b[0;34m)\u001b[0m\u001b[0;34m\u001b[0m\u001b[0;34m\u001b[0m\u001b[0m\n\u001b[0m",
      "\u001b[0;31mValueError\u001b[0m: 'Art' is not in list"
     ]
    }
   ],
   "source": [
    "print(courses.index('Art'))"
   ]
  },
  {
   "cell_type": "code",
   "execution_count": 27,
   "metadata": {},
   "outputs": [
    {
     "name": "stdout",
     "output_type": "stream",
     "text": [
      "False\n",
      "True\n"
     ]
    }
   ],
   "source": [
    "print('Art' in courses)\n",
    "print('Math' in courses)"
   ]
  },
  {
   "cell_type": "code",
   "execution_count": 28,
   "metadata": {},
   "outputs": [
    {
     "name": "stdout",
     "output_type": "stream",
     "text": [
      "History\n",
      "Math\n",
      "Physics\n",
      "CompSci\n"
     ]
    }
   ],
   "source": [
    "for item in courses:\n",
    "    print(item)"
   ]
  },
  {
   "cell_type": "code",
   "execution_count": 29,
   "metadata": {},
   "outputs": [
    {
     "name": "stdout",
     "output_type": "stream",
     "text": [
      "0 History\n",
      "1 Math\n",
      "2 Physics\n",
      "3 CompSci\n"
     ]
    }
   ],
   "source": [
    "for index, course in enumerate(courses):\n",
    "    print(index, course)"
   ]
  },
  {
   "cell_type": "code",
   "execution_count": 30,
   "metadata": {},
   "outputs": [
    {
     "name": "stdout",
     "output_type": "stream",
     "text": [
      "1 History\n",
      "2 Math\n",
      "3 Physics\n",
      "4 CompSci\n"
     ]
    }
   ],
   "source": [
    "for index, course in enumerate(courses, start=1):\n",
    "    print(index, course)"
   ]
  },
  {
   "cell_type": "code",
   "execution_count": 3,
   "metadata": {},
   "outputs": [
    {
     "name": "stdout",
     "output_type": "stream",
     "text": [
      "History, Math, Physics, CompSci\n"
     ]
    }
   ],
   "source": [
    "courses = ['History', 'Math', 'Physics', 'CompSci']\n",
    "course_str = ', '.join(courses)\n",
    "print(course_str)"
   ]
  },
  {
   "cell_type": "code",
   "execution_count": 4,
   "metadata": {},
   "outputs": [
    {
     "name": "stdout",
     "output_type": "stream",
     "text": [
      "History - Math - Physics - CompSci\n"
     ]
    }
   ],
   "source": [
    "courses = ['History', 'Math', 'Physics', 'CompSci']\n",
    "course_str = ' - '.join(courses)\n",
    "print(course_str)"
   ]
  },
  {
   "cell_type": "code",
   "execution_count": 6,
   "metadata": {},
   "outputs": [
    {
     "name": "stdout",
     "output_type": "stream",
     "text": [
      "['History', 'Math', 'Physics', 'CompSci']\n"
     ]
    }
   ],
   "source": [
    "courses = ['History', 'Math', 'Physics', 'CompSci']\n",
    "course_str = ' - '.join(courses)\n",
    "new_list = course_str.split(' - ')\n",
    "print(new_list)"
   ]
  },
  {
   "cell_type": "markdown",
   "metadata": {},
   "source": [
    "### Tuples"
   ]
  },
  {
   "cell_type": "code",
   "execution_count": 7,
   "metadata": {},
   "outputs": [
    {
     "name": "stdout",
     "output_type": "stream",
     "text": [
      "['History', 'Math', 'Physics', 'CompSci']\n",
      "['History', 'Math', 'Physics', 'CompSci']\n",
      "['Art', 'Math', 'Physics', 'CompSci']\n",
      "['Art', 'Math', 'Physics', 'CompSci']\n"
     ]
    }
   ],
   "source": [
    "list_1 = ['History', 'Math', 'Physics', 'CompSci']\n",
    "list_2 = list_1\n",
    "print(list_1)\n",
    "print(list_2)\n",
    "\n",
    "list_1[0] = 'Art'\n",
    "print(list_1)\n",
    "print(list_2)"
   ]
  },
  {
   "cell_type": "code",
   "execution_count": 12,
   "metadata": {},
   "outputs": [
    {
     "name": "stdout",
     "output_type": "stream",
     "text": [
      "('History', 'Math', 'Physics', 'CompSci')\n",
      "('History', 'Math', 'Physics', 'CompSci')\n"
     ]
    },
    {
     "ename": "TypeError",
     "evalue": "'tuple' object does not support item assignment",
     "output_type": "error",
     "traceback": [
      "\u001b[1;31m---------------------------------------------------------------------------\u001b[0m",
      "\u001b[1;31mTypeError\u001b[0m                                 Traceback (most recent call last)",
      "\u001b[1;32m<ipython-input-12-bd450f478f65>\u001b[0m in \u001b[0;36m<module>\u001b[1;34m\u001b[0m\n\u001b[0;32m      4\u001b[0m \u001b[0mprint\u001b[0m\u001b[1;33m(\u001b[0m\u001b[0mtuple_2\u001b[0m\u001b[1;33m)\u001b[0m\u001b[1;33m\u001b[0m\u001b[1;33m\u001b[0m\u001b[0m\n\u001b[0;32m      5\u001b[0m \u001b[1;33m\u001b[0m\u001b[0m\n\u001b[1;32m----> 6\u001b[1;33m \u001b[0mtuple_1\u001b[0m\u001b[1;33m[\u001b[0m\u001b[1;36m0\u001b[0m\u001b[1;33m]\u001b[0m \u001b[1;33m=\u001b[0m \u001b[1;34m'Art'\u001b[0m\u001b[1;33m\u001b[0m\u001b[1;33m\u001b[0m\u001b[0m\n\u001b[0m\u001b[0;32m      7\u001b[0m \u001b[0mprint\u001b[0m\u001b[1;33m(\u001b[0m\u001b[0mtuple_1\u001b[0m\u001b[1;33m)\u001b[0m\u001b[1;33m\u001b[0m\u001b[1;33m\u001b[0m\u001b[0m\n\u001b[0;32m      8\u001b[0m \u001b[0mprint\u001b[0m\u001b[1;33m(\u001b[0m\u001b[0mtuple_2\u001b[0m\u001b[1;33m)\u001b[0m\u001b[1;33m\u001b[0m\u001b[1;33m\u001b[0m\u001b[0m\n",
      "\u001b[1;31mTypeError\u001b[0m: 'tuple' object does not support item assignment"
     ]
    }
   ],
   "source": [
    "tuple_1 = ('History', 'Math', 'Physics', 'CompSci')\n",
    "tuple_2 = tuple_1\n",
    "print(tuple_1)\n",
    "print(tuple_2)\n",
    "\n",
    "tuple_1[0] = 'Art'\n",
    "print(tuple_1)\n",
    "print(tuple_2)"
   ]
  },
  {
   "cell_type": "markdown",
   "metadata": {},
   "source": [
    "### Sets"
   ]
  },
  {
   "cell_type": "code",
   "execution_count": 15,
   "metadata": {},
   "outputs": [
    {
     "name": "stdout",
     "output_type": "stream",
     "text": [
      "{'History', 'CompSci', 'Math', 'Physics'}\n"
     ]
    }
   ],
   "source": [
    "cs_courses = {'History', 'Math', 'Physics', 'CompSci'}\n",
    "print(cs_courses)"
   ]
  },
  {
   "cell_type": "code",
   "execution_count": 15,
   "metadata": {},
   "outputs": [
    {
     "name": "stdout",
     "output_type": "stream",
     "text": [
      "{'History', 'CompSci', 'Math', 'Physics'}\n"
     ]
    }
   ],
   "source": [
    "cs_courses = {'History', 'Math', 'Physics', 'CompSci', 'Math'}\n",
    "print(cs_courses)"
   ]
  },
  {
   "cell_type": "code",
   "execution_count": 16,
   "metadata": {},
   "outputs": [
    {
     "name": "stdout",
     "output_type": "stream",
     "text": [
      "True\n"
     ]
    }
   ],
   "source": [
    "cs_courses = {'History', 'Math', 'Physics', 'CompSci'}\n",
    "print('Math' in cs_courses)"
   ]
  },
  {
   "cell_type": "code",
   "execution_count": 17,
   "metadata": {},
   "outputs": [
    {
     "name": "stdout",
     "output_type": "stream",
     "text": [
      "{'History', 'Math'}\n"
     ]
    }
   ],
   "source": [
    "cs_courses = {'History', 'Math', 'Physics', 'CompSci'}\n",
    "art_courses = {'History', 'Math', 'Art', 'Design'}\n",
    "print(cs_courses.intersection(art_courses))"
   ]
  },
  {
   "cell_type": "code",
   "execution_count": 18,
   "metadata": {
    "scrolled": true
   },
   "outputs": [
    {
     "name": "stdout",
     "output_type": "stream",
     "text": [
      "{'Physics', 'CompSci'}\n"
     ]
    }
   ],
   "source": [
    "cs_courses = {'History', 'Math', 'Physics', 'CompSci'}\n",
    "art_courses = {'History', 'Math', 'Art', 'Design'}\n",
    "print(cs_courses.difference(art_courses))"
   ]
  },
  {
   "cell_type": "code",
   "execution_count": 19,
   "metadata": {},
   "outputs": [
    {
     "name": "stdout",
     "output_type": "stream",
     "text": [
      "{'History', 'CompSci', 'Math', 'Physics', 'Design', 'Art'}\n"
     ]
    }
   ],
   "source": [
    "cs_courses = {'History', 'Math', 'Physics', 'CompSci'}\n",
    "art_courses = {'History', 'Math', 'Art', 'Design'}\n",
    "print(cs_courses.union(art_courses))"
   ]
  },
  {
   "cell_type": "markdown",
   "metadata": {},
   "source": [
    "Empty lists, tuples, and sets"
   ]
  },
  {
   "cell_type": "code",
   "execution_count": null,
   "metadata": {},
   "outputs": [],
   "source": [
    "empty_list = []\n",
    "empty_list = list()\n",
    "\n",
    "empty_tuple = ()\n",
    "empty_tuple = tuple()\n",
    "\n",
    "empty_set = {}\n",
    "empty_set = set()"
   ]
  }
 ],
 "metadata": {
  "kernelspec": {
   "display_name": "Python 3",
   "language": "python",
   "name": "python3"
  },
  "language_info": {
   "codemirror_mode": {
    "name": "ipython",
    "version": 3
   },
   "file_extension": ".py",
   "mimetype": "text/x-python",
   "name": "python",
   "nbconvert_exporter": "python",
   "pygments_lexer": "ipython3",
   "version": "3.7.4"
  }
 },
 "nbformat": 4,
 "nbformat_minor": 2
}
