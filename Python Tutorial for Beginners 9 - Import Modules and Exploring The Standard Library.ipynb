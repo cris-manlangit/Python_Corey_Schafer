{
 "cells": [
  {
   "cell_type": "markdown",
   "metadata": {},
   "source": [
    "## [Python Tutorial for Beginners 9: Import Modules and Exploring The Standard Library](https://www.youtube.com/watch?v=CqvZ3vGoGs0)"
   ]
  },
  {
   "cell_type": "code",
   "execution_count": 1,
   "metadata": {},
   "outputs": [
    {
     "name": "stdout",
     "output_type": "stream",
     "text": [
      "Imported my_module...\n"
     ]
    }
   ],
   "source": [
    "print('Imported my_module...')\n",
    "test = 'Test String'\n",
    "\n",
    "def find_index(to_search, target):\n",
    "    '''Find the index of a value in a sequence'''\n",
    "    for i, value in enumerate(to_search):\n",
    "        if value == target:\n",
    "            return i\n",
    "    return -1\n",
    "    "
   ]
  },
  {
   "cell_type": "code",
   "execution_count": 9,
   "metadata": {},
   "outputs": [],
   "source": [
    "import my_module"
   ]
  },
  {
   "cell_type": "code",
   "execution_count": 10,
   "metadata": {},
   "outputs": [
    {
     "name": "stdout",
     "output_type": "stream",
     "text": [
      "1\n"
     ]
    }
   ],
   "source": [
    "import my_module\n",
    "\n",
    "courses = ['History', 'Math', 'Physics', 'CompSci']\n",
    "\n",
    "index = my_module.find_index(courses, 'Math')\n",
    "print(index)"
   ]
  },
  {
   "cell_type": "code",
   "execution_count": 11,
   "metadata": {},
   "outputs": [
    {
     "name": "stdout",
     "output_type": "stream",
     "text": [
      "1\n"
     ]
    }
   ],
   "source": [
    "import my_module as mm\n",
    "\n",
    "courses = ['History', 'Math', 'Physics', 'CompSci']\n",
    "\n",
    "index = mm.find_index(courses, 'Math')\n",
    "print(index)"
   ]
  },
  {
   "cell_type": "code",
   "execution_count": 14,
   "metadata": {},
   "outputs": [
    {
     "name": "stdout",
     "output_type": "stream",
     "text": [
      "1\n"
     ]
    }
   ],
   "source": [
    "from my_module import find_index\n",
    "\n",
    "courses = ['History', 'Math', 'Physics', 'CompSci']\n",
    "\n",
    "index = find_index(courses, 'Math')\n",
    "print(index)"
   ]
  },
  {
   "cell_type": "code",
   "execution_count": 15,
   "metadata": {},
   "outputs": [
    {
     "name": "stdout",
     "output_type": "stream",
     "text": [
      "1\n",
      "Test String\n"
     ]
    }
   ],
   "source": [
    "from my_module import find_index, test\n",
    "\n",
    "courses = ['History', 'Math', 'Physics', 'CompSci']\n",
    "\n",
    "index = find_index(courses, 'Math')\n",
    "print(index)\n",
    "print(test)"
   ]
  },
  {
   "cell_type": "code",
   "execution_count": 16,
   "metadata": {},
   "outputs": [
    {
     "name": "stdout",
     "output_type": "stream",
     "text": [
      "1\n",
      "Test String\n"
     ]
    }
   ],
   "source": [
    "from my_module import find_index as fi, test\n",
    "\n",
    "courses = ['History', 'Math', 'Physics', 'CompSci']\n",
    "\n",
    "index = fi(courses, 'Math') # fi not really readable\n",
    "print(index)\n",
    "print(test)"
   ]
  },
  {
   "cell_type": "code",
   "execution_count": 18,
   "metadata": {},
   "outputs": [
    {
     "name": "stdout",
     "output_type": "stream",
     "text": [
      "1\n",
      "Test String\n"
     ]
    }
   ],
   "source": [
    "from my_module import * # not recommended\n",
    "\n",
    "courses = ['History', 'Math', 'Physics', 'CompSci']\n",
    "\n",
    "index = find_index(courses, 'Math')\n",
    "print(index)\n",
    "print(test)"
   ]
  },
  {
   "cell_type": "code",
   "execution_count": 20,
   "metadata": {},
   "outputs": [],
   "source": [
    "from my_module import find_index, test\n",
    "import sys\n",
    "\n",
    "courses = ['History', 'Math', 'Physics', 'CompSci']\n",
    "\n",
    "index = find_index(courses, 'Math')\n",
    "# print(index)\n",
    "# print(test)\n",
    "print(sys.path)"
   ]
  },
  {
   "cell_type": "code",
   "execution_count": 20,
   "metadata": {},
   "outputs": [],
   "source": [
    "from my_module import find_index, test\n",
    "import sys\n",
    "\n",
    "courses = ['History', 'Math', 'Physics', 'CompSci']\n",
    "\n",
    "index = find_index(courses, 'Math')\n",
    "# print(index)\n",
    "# print(test)\n",
    "print(sys.path)"
   ]
  },
  {
   "cell_type": "markdown",
   "metadata": {},
   "source": [
    "# 8:51"
   ]
  },
  {
   "cell_type": "code",
   "execution_count": null,
   "metadata": {},
   "outputs": [],
   "source": []
  }
 ],
 "metadata": {
  "kernelspec": {
   "display_name": "Python 3",
   "language": "python",
   "name": "python3"
  },
  "language_info": {
   "codemirror_mode": {
    "name": "ipython",
    "version": 3
   },
   "file_extension": ".py",
   "mimetype": "text/x-python",
   "name": "python",
   "nbconvert_exporter": "python",
   "pygments_lexer": "ipython3",
   "version": "3.7.4"
  }
 },
 "nbformat": 4,
 "nbformat_minor": 2
}
