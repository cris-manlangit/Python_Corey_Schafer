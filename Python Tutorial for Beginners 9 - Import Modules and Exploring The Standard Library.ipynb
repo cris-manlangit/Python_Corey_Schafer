{
 "cells": [
  {
   "cell_type": "markdown",
   "metadata": {},
   "source": [
    "## [Python Tutorial for Beginners 9: Import Modules and Exploring The Standard Library](https://www.youtube.com/watch?v=CqvZ3vGoGs0)"
   ]
  },
  {
   "cell_type": "code",
   "execution_count": 1,
   "metadata": {},
   "outputs": [
    {
     "name": "stdout",
     "output_type": "stream",
     "text": [
      "Imported my_module...\n"
     ]
    }
   ],
   "source": [
    "print('Imported my_module...')\n",
    "test = 'Test String'\n",
    "\n",
    "def find_index(to_search, target):\n",
    "    '''Find the index of a value in a sequence'''\n",
    "    for i, value in enumerate(to_search):\n",
    "        if value == target:\n",
    "            return i\n",
    "    return -1\n",
    "    "
   ]
  },
  {
   "cell_type": "code",
   "execution_count": 6,
   "metadata": {},
   "outputs": [],
   "source": [
    "import my_module"
   ]
  },
  {
   "cell_type": "code",
   "execution_count": 7,
   "metadata": {},
   "outputs": [
    {
     "name": "stdout",
     "output_type": "stream",
     "text": [
      "1\n"
     ]
    }
   ],
   "source": [
    "import my_module\n",
    "\n",
    "courses = ['History', 'Math', 'Physics', 'CompSci']\n",
    "\n",
    "index = my_module.find_index(courses, 'Math')\n",
    "print(index)"
   ]
  },
  {
   "cell_type": "code",
   "execution_count": 11,
   "metadata": {},
   "outputs": [
    {
     "name": "stdout",
     "output_type": "stream",
     "text": [
      "1\n"
     ]
    }
   ],
   "source": [
    "import my_module as mm\n",
    "\n",
    "courses = ['History', 'Math', 'Physics', 'CompSci']\n",
    "\n",
    "index = mm.find_index(courses, 'Math')\n",
    "print(index)"
   ]
  },
  {
   "cell_type": "code",
   "execution_count": 14,
   "metadata": {},
   "outputs": [
    {
     "name": "stdout",
     "output_type": "stream",
     "text": [
      "1\n"
     ]
    }
   ],
   "source": [
    "from my_module import find_index\n",
    "\n",
    "courses = ['History', 'Math', 'Physics', 'CompSci']\n",
    "\n",
    "index = find_index(courses, 'Math')\n",
    "print(index)"
   ]
  },
  {
   "cell_type": "code",
   "execution_count": 15,
   "metadata": {},
   "outputs": [
    {
     "name": "stdout",
     "output_type": "stream",
     "text": [
      "1\n",
      "Test String\n"
     ]
    }
   ],
   "source": [
    "from my_module import find_index, test\n",
    "\n",
    "courses = ['History', 'Math', 'Physics', 'CompSci']\n",
    "\n",
    "index = find_index(courses, 'Math')\n",
    "print(index)\n",
    "print(test)"
   ]
  },
  {
   "cell_type": "code",
   "execution_count": 5,
   "metadata": {},
   "outputs": [
    {
     "name": "stdout",
     "output_type": "stream",
     "text": [
      "1\n",
      "Test String\n"
     ]
    }
   ],
   "source": [
    "from my_module import find_index as fi, test\n",
    "\n",
    "courses = ['History', 'Math', 'Physics', 'CompSci']\n",
    "\n",
    "index = fi(courses, 'Math') # fi not really readable\n",
    "print(index)\n",
    "print(test)"
   ]
  },
  {
   "cell_type": "code",
   "execution_count": 18,
   "metadata": {},
   "outputs": [
    {
     "name": "stdout",
     "output_type": "stream",
     "text": [
      "1\n",
      "Test String\n"
     ]
    }
   ],
   "source": [
    "from my_module import * # not recommended\n",
    "\n",
    "courses = ['History', 'Math', 'Physics', 'CompSci']\n",
    "\n",
    "index = find_index(courses, 'Math')\n",
    "print(index)\n",
    "print(test)"
   ]
  },
  {
   "cell_type": "code",
   "execution_count": 4,
   "metadata": {},
   "outputs": [
    {
     "name": "stdout",
     "output_type": "stream",
     "text": [
      "['/Users/cmanlangit/Python_Corey_Schafer', '/usr/local/anaconda3/lib/python37.zip', '/usr/local/anaconda3/lib/python3.7', '/usr/local/anaconda3/lib/python3.7/lib-dynload', '', '/usr/local/anaconda3/lib/python3.7/site-packages', '/usr/local/anaconda3/lib/python3.7/site-packages/aeosa', '/usr/local/anaconda3/lib/python3.7/site-packages/IPython/extensions', '/Users/cmanlangit/.ipython']\n"
     ]
    }
   ],
   "source": [
    "from my_module import find_index, test\n",
    "import sys\n",
    "\n",
    "courses = ['History', 'Math', 'Physics', 'CompSci']\n",
    "\n",
    "index = find_index(courses, 'Math')\n",
    "# print(index)\n",
    "# print(test)\n",
    "print(sys.path)"
   ]
  },
  {
   "cell_type": "code",
   "execution_count": 8,
   "metadata": {},
   "outputs": [
    {
     "name": "stdout",
     "output_type": "stream",
     "text": [
      "['/Users/cmanlangit/Python_Corey_Schafer', '/usr/local/anaconda3/lib/python37.zip', '/usr/local/anaconda3/lib/python3.7', '/usr/local/anaconda3/lib/python3.7/lib-dynload', '', '/usr/local/anaconda3/lib/python3.7/site-packages', '/usr/local/anaconda3/lib/python3.7/site-packages/aeosa', '/usr/local/anaconda3/lib/python3.7/site-packages/IPython/extensions', '/Users/cmanlangit/.ipython', '~/Desktop']\n"
     ]
    }
   ],
   "source": [
    "import sys\n",
    "sys.path.append('~/Desktop')\n",
    "\n",
    "from my_module import find_index, test\n",
    "\n",
    "\n",
    "courses = ['History', 'Math', 'Physics', 'CompSci']\n",
    "\n",
    "index = find_index(courses, 'Math')\n",
    "# print(index)\n",
    "# print(test)\n",
    "print(sys.path)"
   ]
  },
  {
   "cell_type": "code",
   "execution_count": 20,
   "metadata": {},
   "outputs": [
    {
     "name": "stdout",
     "output_type": "stream",
     "text": [
      "Physics\n"
     ]
    }
   ],
   "source": [
    "import random\n",
    "\n",
    "courses = ['History', 'Math', 'Physics', 'CompSci']\n",
    "\n",
    "random_course = random.choice(courses)\n",
    "\n",
    "print(random_course)"
   ]
  },
  {
   "cell_type": "code",
   "execution_count": 24,
   "metadata": {},
   "outputs": [
    {
     "name": "stdout",
     "output_type": "stream",
     "text": [
      "1.5707963267948966\n"
     ]
    }
   ],
   "source": [
    "import math\n",
    "\n",
    "courses = ['History', 'Math', 'Physics', 'CompSci']\n",
    "\n",
    "rads = math.radians(90)\n",
    "\n",
    "print(rads)"
   ]
  },
  {
   "cell_type": "code",
   "execution_count": 25,
   "metadata": {},
   "outputs": [
    {
     "name": "stdout",
     "output_type": "stream",
     "text": [
      "1.0\n"
     ]
    }
   ],
   "source": [
    "import math\n",
    "\n",
    "courses = ['History', 'Math', 'Physics', 'CompSci']\n",
    "\n",
    "rads = math.radians(90)\n",
    "\n",
    "print(math.sin(rads))"
   ]
  },
  {
   "cell_type": "code",
   "execution_count": 26,
   "metadata": {},
   "outputs": [
    {
     "name": "stdout",
     "output_type": "stream",
     "text": [
      "2020-02-16\n"
     ]
    }
   ],
   "source": [
    "import datetime\n",
    "import calendar\n",
    "\n",
    "courses = ['History', 'Math', 'Physics', 'CompSci']\n",
    "\n",
    "today = datetime.date.today()\n",
    "\n",
    "print(today)"
   ]
  },
  {
   "cell_type": "code",
   "execution_count": 28,
   "metadata": {},
   "outputs": [
    {
     "name": "stdout",
     "output_type": "stream",
     "text": [
      "2020-02-16\n",
      "False\n"
     ]
    }
   ],
   "source": [
    "import datetime\n",
    "import calendar\n",
    "\n",
    "courses = ['History', 'Math', 'Physics', 'CompSci']\n",
    "\n",
    "today = datetime.date.today()\n",
    "\n",
    "print(today)\n",
    "\n",
    "print(calendar.isleap(2017))"
   ]
  },
  {
   "cell_type": "code",
   "execution_count": 29,
   "metadata": {},
   "outputs": [
    {
     "name": "stdout",
     "output_type": "stream",
     "text": [
      "2020-02-16\n",
      "True\n"
     ]
    }
   ],
   "source": [
    "import datetime\n",
    "import calendar\n",
    "\n",
    "courses = ['History', 'Math', 'Physics', 'CompSci']\n",
    "\n",
    "today = datetime.date.today()\n",
    "\n",
    "print(today)\n",
    "\n",
    "print(calendar.isleap(2020))"
   ]
  },
  {
   "cell_type": "code",
   "execution_count": 28,
   "metadata": {},
   "outputs": [
    {
     "name": "stdout",
     "output_type": "stream",
     "text": [
      "2020-02-16\n",
      "False\n"
     ]
    }
   ],
   "source": [
    "import datetime\n",
    "import calendar\n",
    "\n",
    "courses = ['History', 'Math', 'Physics', 'CompSci']\n",
    "\n",
    "today = datetime.date.today()\n",
    "\n",
    "print(today)\n",
    "\n",
    "print(calendar.isleap(2017))"
   ]
  },
  {
   "cell_type": "code",
   "execution_count": 30,
   "metadata": {},
   "outputs": [
    {
     "name": "stdout",
     "output_type": "stream",
     "text": [
      "2020-02-16\n",
      "True\n"
     ]
    }
   ],
   "source": [
    "import datetime\n",
    "import calendar\n",
    "\n",
    "courses = ['History', 'Math', 'Physics', 'CompSci']\n",
    "\n",
    "today = datetime.date.today()\n",
    "\n",
    "print(today)\n",
    "\n",
    "print(calendar.isleap(2020))"
   ]
  },
  {
   "cell_type": "code",
   "execution_count": 31,
   "metadata": {},
   "outputs": [
    {
     "name": "stdout",
     "output_type": "stream",
     "text": [
      "/Users/cmanlangit/Python_Corey_Schafer\n"
     ]
    }
   ],
   "source": [
    "import os\n",
    "\n",
    "courses = ['History', 'Math', 'Physics', 'CompSci']\n",
    "\n",
    "print(os.getcwd())"
   ]
  },
  {
   "cell_type": "code",
   "execution_count": 32,
   "metadata": {},
   "outputs": [
    {
     "name": "stdout",
     "output_type": "stream",
     "text": [
      "/usr/local/anaconda3/lib/python3.7/os.py\n"
     ]
    }
   ],
   "source": [
    "import os\n",
    "\n",
    "courses = ['History', 'Math', 'Physics', 'CompSci']\n",
    "\n",
    "print(os.__file__)"
   ]
  },
  {
   "cell_type": "code",
   "execution_count": 33,
   "metadata": {},
   "outputs": [],
   "source": [
    "import antigravity"
   ]
  }
 ],
 "metadata": {
  "kernelspec": {
   "display_name": "Python 3",
   "language": "python",
   "name": "python3"
  },
  "language_info": {
   "codemirror_mode": {
    "name": "ipython",
    "version": 3
   },
   "file_extension": ".py",
   "mimetype": "text/x-python",
   "name": "python",
   "nbconvert_exporter": "python",
   "pygments_lexer": "ipython3",
   "version": "3.7.4"
  }
 },
 "nbformat": 4,
 "nbformat_minor": 2
}
